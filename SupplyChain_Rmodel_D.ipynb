{
 "cells": [
  {
   "cell_type": "code",
   "execution_count": 1,
   "id": "4b798a9b",
   "metadata": {},
   "outputs": [],
   "source": [
    "import os\n",
    "import numpy as np\n",
    "import pandas as pd\n",
    "import matplotlib.pyplot as plt\n",
    "import seaborn as sns\n",
    "import plotly.express as px\n",
    "import plotly.graph_objects as go\n",
    "from sklearn.model_selection import train_test_split\n",
    "from sklearn.ensemble import RandomForestRegressor\n",
    "from sklearn.linear_model import LinearRegression\n",
    "from sklearn.preprocessing import StandardScaler\n",
    "from sklearn.metrics import mean_squared_error, mean_absolute_error, r2_score"
   ]
  },
  {
   "cell_type": "code",
   "execution_count": 2,
   "id": "ababb58e",
   "metadata": {},
   "outputs": [
    {
     "data": {
      "text/html": [
       "<div>\n",
       "<style scoped>\n",
       "    .dataframe tbody tr th:only-of-type {\n",
       "        vertical-align: middle;\n",
       "    }\n",
       "\n",
       "    .dataframe tbody tr th {\n",
       "        vertical-align: top;\n",
       "    }\n",
       "\n",
       "    .dataframe thead th {\n",
       "        text-align: right;\n",
       "    }\n",
       "</style>\n",
       "<table border=\"1\" class=\"dataframe\">\n",
       "  <thead>\n",
       "    <tr style=\"text-align: right;\">\n",
       "      <th></th>\n",
       "      <th>Store</th>\n",
       "      <th>Date</th>\n",
       "      <th>Temperature</th>\n",
       "      <th>Fuel_Price</th>\n",
       "      <th>MarkDown1</th>\n",
       "      <th>MarkDown2</th>\n",
       "      <th>MarkDown3</th>\n",
       "      <th>MarkDown4</th>\n",
       "      <th>MarkDown5</th>\n",
       "      <th>CPI</th>\n",
       "      <th>Unemployment</th>\n",
       "      <th>IsHoliday</th>\n",
       "    </tr>\n",
       "  </thead>\n",
       "  <tbody>\n",
       "    <tr>\n",
       "      <th>0</th>\n",
       "      <td>1</td>\n",
       "      <td>2010-02-05</td>\n",
       "      <td>42.31</td>\n",
       "      <td>2.572</td>\n",
       "      <td>NaN</td>\n",
       "      <td>NaN</td>\n",
       "      <td>NaN</td>\n",
       "      <td>NaN</td>\n",
       "      <td>NaN</td>\n",
       "      <td>211.096358</td>\n",
       "      <td>8.106</td>\n",
       "      <td>False</td>\n",
       "    </tr>\n",
       "    <tr>\n",
       "      <th>1</th>\n",
       "      <td>1</td>\n",
       "      <td>2010-02-12</td>\n",
       "      <td>38.51</td>\n",
       "      <td>2.548</td>\n",
       "      <td>NaN</td>\n",
       "      <td>NaN</td>\n",
       "      <td>NaN</td>\n",
       "      <td>NaN</td>\n",
       "      <td>NaN</td>\n",
       "      <td>211.242170</td>\n",
       "      <td>8.106</td>\n",
       "      <td>True</td>\n",
       "    </tr>\n",
       "  </tbody>\n",
       "</table>\n",
       "</div>"
      ],
      "text/plain": [
       "   Store        Date  Temperature  Fuel_Price  MarkDown1  MarkDown2  \\\n",
       "0      1  2010-02-05        42.31       2.572        NaN        NaN   \n",
       "1      1  2010-02-12        38.51       2.548        NaN        NaN   \n",
       "\n",
       "   MarkDown3  MarkDown4  MarkDown5         CPI  Unemployment  IsHoliday  \n",
       "0        NaN        NaN        NaN  211.096358         8.106      False  \n",
       "1        NaN        NaN        NaN  211.242170         8.106       True  "
      ]
     },
     "execution_count": 2,
     "metadata": {},
     "output_type": "execute_result"
    }
   ],
   "source": [
    "features = pd.read_csv('features.csv')\n",
    "features.head(2)"
   ]
  },
  {
   "cell_type": "code",
   "execution_count": 3,
   "id": "0134739e",
   "metadata": {},
   "outputs": [
    {
     "data": {
      "text/html": [
       "<div>\n",
       "<style scoped>\n",
       "    .dataframe tbody tr th:only-of-type {\n",
       "        vertical-align: middle;\n",
       "    }\n",
       "\n",
       "    .dataframe tbody tr th {\n",
       "        vertical-align: top;\n",
       "    }\n",
       "\n",
       "    .dataframe thead th {\n",
       "        text-align: right;\n",
       "    }\n",
       "</style>\n",
       "<table border=\"1\" class=\"dataframe\">\n",
       "  <thead>\n",
       "    <tr style=\"text-align: right;\">\n",
       "      <th></th>\n",
       "      <th>Store</th>\n",
       "      <th>Type</th>\n",
       "      <th>Size</th>\n",
       "    </tr>\n",
       "  </thead>\n",
       "  <tbody>\n",
       "    <tr>\n",
       "      <th>0</th>\n",
       "      <td>1</td>\n",
       "      <td>A</td>\n",
       "      <td>151315</td>\n",
       "    </tr>\n",
       "    <tr>\n",
       "      <th>1</th>\n",
       "      <td>2</td>\n",
       "      <td>A</td>\n",
       "      <td>202307</td>\n",
       "    </tr>\n",
       "  </tbody>\n",
       "</table>\n",
       "</div>"
      ],
      "text/plain": [
       "   Store Type    Size\n",
       "0      1    A  151315\n",
       "1      2    A  202307"
      ]
     },
     "execution_count": 3,
     "metadata": {},
     "output_type": "execute_result"
    }
   ],
   "source": [
    "stores = pd.read_csv('stores.csv')\n",
    "stores.head(2)"
   ]
  },
  {
   "cell_type": "code",
   "execution_count": 4,
   "id": "3fa016b4",
   "metadata": {},
   "outputs": [
    {
     "data": {
      "text/html": [
       "<div>\n",
       "<style scoped>\n",
       "    .dataframe tbody tr th:only-of-type {\n",
       "        vertical-align: middle;\n",
       "    }\n",
       "\n",
       "    .dataframe tbody tr th {\n",
       "        vertical-align: top;\n",
       "    }\n",
       "\n",
       "    .dataframe thead th {\n",
       "        text-align: right;\n",
       "    }\n",
       "</style>\n",
       "<table border=\"1\" class=\"dataframe\">\n",
       "  <thead>\n",
       "    <tr style=\"text-align: right;\">\n",
       "      <th></th>\n",
       "      <th>Store</th>\n",
       "      <th>Dept</th>\n",
       "      <th>Date</th>\n",
       "      <th>Weekly_Sales</th>\n",
       "      <th>IsHoliday</th>\n",
       "    </tr>\n",
       "  </thead>\n",
       "  <tbody>\n",
       "    <tr>\n",
       "      <th>0</th>\n",
       "      <td>1</td>\n",
       "      <td>1</td>\n",
       "      <td>2010-02-05</td>\n",
       "      <td>24924.50</td>\n",
       "      <td>False</td>\n",
       "    </tr>\n",
       "    <tr>\n",
       "      <th>1</th>\n",
       "      <td>1</td>\n",
       "      <td>1</td>\n",
       "      <td>2010-02-12</td>\n",
       "      <td>46039.49</td>\n",
       "      <td>True</td>\n",
       "    </tr>\n",
       "  </tbody>\n",
       "</table>\n",
       "</div>"
      ],
      "text/plain": [
       "   Store  Dept        Date  Weekly_Sales  IsHoliday\n",
       "0      1     1  2010-02-05      24924.50      False\n",
       "1      1     1  2010-02-12      46039.49       True"
      ]
     },
     "execution_count": 4,
     "metadata": {},
     "output_type": "execute_result"
    }
   ],
   "source": [
    "train = pd.read_csv('trains.csv')\n",
    "train.head(2)"
   ]
  },
  {
   "cell_type": "code",
   "execution_count": 5,
   "id": "aafc3a40",
   "metadata": {},
   "outputs": [
    {
     "data": {
      "text/plain": [
       "45"
      ]
     },
     "execution_count": 5,
     "metadata": {},
     "output_type": "execute_result"
    }
   ],
   "source": [
    "train['Store'].nunique()"
   ]
  },
  {
   "cell_type": "code",
   "execution_count": 6,
   "id": "890bd998",
   "metadata": {},
   "outputs": [
    {
     "data": {
      "text/plain": [
       "421570"
      ]
     },
     "execution_count": 6,
     "metadata": {},
     "output_type": "execute_result"
    }
   ],
   "source": [
    "len(train['Store'])"
   ]
  },
  {
   "cell_type": "code",
   "execution_count": 7,
   "id": "0e61d320",
   "metadata": {},
   "outputs": [
    {
     "data": {
      "text/plain": [
       "45"
      ]
     },
     "execution_count": 7,
     "metadata": {},
     "output_type": "execute_result"
    }
   ],
   "source": [
    "len(stores['Store'])"
   ]
  },
  {
   "cell_type": "code",
   "execution_count": 8,
   "id": "ab1cf4c1",
   "metadata": {},
   "outputs": [
    {
     "data": {
      "text/plain": [
       "45"
      ]
     },
     "execution_count": 8,
     "metadata": {},
     "output_type": "execute_result"
    }
   ],
   "source": [
    "stores['Store'].nunique()"
   ]
  },
  {
   "cell_type": "code",
   "execution_count": 9,
   "id": "2c0f312d",
   "metadata": {},
   "outputs": [
    {
     "data": {
      "text/html": [
       "<div>\n",
       "<style scoped>\n",
       "    .dataframe tbody tr th:only-of-type {\n",
       "        vertical-align: middle;\n",
       "    }\n",
       "\n",
       "    .dataframe tbody tr th {\n",
       "        vertical-align: top;\n",
       "    }\n",
       "\n",
       "    .dataframe thead th {\n",
       "        text-align: right;\n",
       "    }\n",
       "</style>\n",
       "<table border=\"1\" class=\"dataframe\">\n",
       "  <thead>\n",
       "    <tr style=\"text-align: right;\">\n",
       "      <th></th>\n",
       "      <th>Store</th>\n",
       "      <th>Dept</th>\n",
       "      <th>Date</th>\n",
       "      <th>IsHoliday</th>\n",
       "    </tr>\n",
       "  </thead>\n",
       "  <tbody>\n",
       "    <tr>\n",
       "      <th>0</th>\n",
       "      <td>1</td>\n",
       "      <td>1</td>\n",
       "      <td>2012-11-02</td>\n",
       "      <td>False</td>\n",
       "    </tr>\n",
       "    <tr>\n",
       "      <th>1</th>\n",
       "      <td>1</td>\n",
       "      <td>1</td>\n",
       "      <td>2012-11-09</td>\n",
       "      <td>False</td>\n",
       "    </tr>\n",
       "    <tr>\n",
       "      <th>2</th>\n",
       "      <td>1</td>\n",
       "      <td>1</td>\n",
       "      <td>2012-11-16</td>\n",
       "      <td>False</td>\n",
       "    </tr>\n",
       "    <tr>\n",
       "      <th>3</th>\n",
       "      <td>1</td>\n",
       "      <td>1</td>\n",
       "      <td>2012-11-23</td>\n",
       "      <td>True</td>\n",
       "    </tr>\n",
       "    <tr>\n",
       "      <th>4</th>\n",
       "      <td>1</td>\n",
       "      <td>1</td>\n",
       "      <td>2012-11-30</td>\n",
       "      <td>False</td>\n",
       "    </tr>\n",
       "  </tbody>\n",
       "</table>\n",
       "</div>"
      ],
      "text/plain": [
       "   Store  Dept        Date  IsHoliday\n",
       "0      1     1  2012-11-02      False\n",
       "1      1     1  2012-11-09      False\n",
       "2      1     1  2012-11-16      False\n",
       "3      1     1  2012-11-23       True\n",
       "4      1     1  2012-11-30      False"
      ]
     },
     "execution_count": 9,
     "metadata": {},
     "output_type": "execute_result"
    }
   ],
   "source": [
    "test = pd.read_csv('test.csv')\n",
    "test.head()"
   ]
  },
  {
   "cell_type": "code",
   "execution_count": 10,
   "id": "87e26e35",
   "metadata": {},
   "outputs": [],
   "source": [
    "data = train.merge(stores, how='left', on='Store')"
   ]
  },
  {
   "cell_type": "code",
   "execution_count": 11,
   "id": "914f1029",
   "metadata": {},
   "outputs": [
    {
     "data": {
      "text/html": [
       "<div>\n",
       "<style scoped>\n",
       "    .dataframe tbody tr th:only-of-type {\n",
       "        vertical-align: middle;\n",
       "    }\n",
       "\n",
       "    .dataframe tbody tr th {\n",
       "        vertical-align: top;\n",
       "    }\n",
       "\n",
       "    .dataframe thead th {\n",
       "        text-align: right;\n",
       "    }\n",
       "</style>\n",
       "<table border=\"1\" class=\"dataframe\">\n",
       "  <thead>\n",
       "    <tr style=\"text-align: right;\">\n",
       "      <th></th>\n",
       "      <th>Store</th>\n",
       "      <th>Dept</th>\n",
       "      <th>Date</th>\n",
       "      <th>Weekly_Sales</th>\n",
       "      <th>IsHoliday</th>\n",
       "      <th>Type</th>\n",
       "      <th>Size</th>\n",
       "    </tr>\n",
       "  </thead>\n",
       "  <tbody>\n",
       "    <tr>\n",
       "      <th>0</th>\n",
       "      <td>1</td>\n",
       "      <td>1</td>\n",
       "      <td>2010-02-05</td>\n",
       "      <td>24924.50</td>\n",
       "      <td>False</td>\n",
       "      <td>A</td>\n",
       "      <td>151315</td>\n",
       "    </tr>\n",
       "    <tr>\n",
       "      <th>1</th>\n",
       "      <td>1</td>\n",
       "      <td>1</td>\n",
       "      <td>2010-02-12</td>\n",
       "      <td>46039.49</td>\n",
       "      <td>True</td>\n",
       "      <td>A</td>\n",
       "      <td>151315</td>\n",
       "    </tr>\n",
       "  </tbody>\n",
       "</table>\n",
       "</div>"
      ],
      "text/plain": [
       "   Store  Dept        Date  Weekly_Sales  IsHoliday Type    Size\n",
       "0      1     1  2010-02-05      24924.50      False    A  151315\n",
       "1      1     1  2010-02-12      46039.49       True    A  151315"
      ]
     },
     "execution_count": 11,
     "metadata": {},
     "output_type": "execute_result"
    }
   ],
   "source": [
    "data.head(2)"
   ]
  },
  {
   "cell_type": "code",
   "execution_count": 12,
   "id": "10d99b04",
   "metadata": {},
   "outputs": [
    {
     "data": {
      "text/plain": [
       "421570"
      ]
     },
     "execution_count": 12,
     "metadata": {},
     "output_type": "execute_result"
    }
   ],
   "source": [
    "len(data['Store'])"
   ]
  },
  {
   "cell_type": "code",
   "execution_count": 13,
   "id": "e83b3396",
   "metadata": {},
   "outputs": [
    {
     "data": {
      "text/plain": [
       "Store           0\n",
       "Dept            0\n",
       "Date            0\n",
       "Weekly_Sales    0\n",
       "IsHoliday       0\n",
       "Type            0\n",
       "Size            0\n",
       "dtype: int64"
      ]
     },
     "execution_count": 13,
     "metadata": {},
     "output_type": "execute_result"
    }
   ],
   "source": [
    "data.isnull().sum()"
   ]
  },
  {
   "cell_type": "code",
   "execution_count": 14,
   "id": "2657a5e2",
   "metadata": {},
   "outputs": [
    {
     "data": {
      "text/plain": [
       "45"
      ]
     },
     "execution_count": 14,
     "metadata": {},
     "output_type": "execute_result"
    }
   ],
   "source": [
    "features['Store'].nunique()"
   ]
  },
  {
   "cell_type": "code",
   "execution_count": 15,
   "id": "3943f364",
   "metadata": {},
   "outputs": [
    {
     "data": {
      "text/plain": [
       "8190"
      ]
     },
     "execution_count": 15,
     "metadata": {},
     "output_type": "execute_result"
    }
   ],
   "source": [
    "len(features['Store'])"
   ]
  },
  {
   "cell_type": "code",
   "execution_count": 16,
   "id": "2d4fcc1e",
   "metadata": {},
   "outputs": [
    {
     "data": {
      "text/plain": [
       "Index(['Store', 'Date', 'Temperature', 'Fuel_Price', 'MarkDown1', 'MarkDown2',\n",
       "       'MarkDown3', 'MarkDown4', 'MarkDown5', 'CPI', 'Unemployment',\n",
       "       'IsHoliday'],\n",
       "      dtype='object')"
      ]
     },
     "execution_count": 16,
     "metadata": {},
     "output_type": "execute_result"
    }
   ],
   "source": [
    "features.columns"
   ]
  },
  {
   "cell_type": "code",
   "execution_count": 17,
   "id": "cf4f1ad2",
   "metadata": {},
   "outputs": [
    {
     "data": {
      "text/plain": [
       "Index(['Store', 'Dept', 'Date', 'Weekly_Sales', 'IsHoliday', 'Type', 'Size'], dtype='object')"
      ]
     },
     "execution_count": 17,
     "metadata": {},
     "output_type": "execute_result"
    }
   ],
   "source": [
    "data.columns"
   ]
  },
  {
   "cell_type": "code",
   "execution_count": 18,
   "id": "78f57ce3",
   "metadata": {},
   "outputs": [
    {
     "data": {
      "text/plain": [
       "Store              0\n",
       "Date               0\n",
       "Temperature        0\n",
       "Fuel_Price         0\n",
       "MarkDown1       4158\n",
       "MarkDown2       5269\n",
       "MarkDown3       4577\n",
       "MarkDown4       4726\n",
       "MarkDown5       4140\n",
       "CPI              585\n",
       "Unemployment     585\n",
       "IsHoliday          0\n",
       "dtype: int64"
      ]
     },
     "execution_count": 18,
     "metadata": {},
     "output_type": "execute_result"
    }
   ],
   "source": [
    "features.isnull().sum()"
   ]
  },
  {
   "cell_type": "code",
   "execution_count": 19,
   "id": "b8d07e72",
   "metadata": {},
   "outputs": [
    {
     "name": "stdout",
     "output_type": "stream",
     "text": [
      "<class 'pandas.core.frame.DataFrame'>\n",
      "RangeIndex: 8190 entries, 0 to 8189\n",
      "Data columns (total 12 columns):\n",
      " #   Column        Non-Null Count  Dtype  \n",
      "---  ------        --------------  -----  \n",
      " 0   Store         8190 non-null   int64  \n",
      " 1   Date          8190 non-null   object \n",
      " 2   Temperature   8190 non-null   float64\n",
      " 3   Fuel_Price    8190 non-null   float64\n",
      " 4   MarkDown1     4032 non-null   float64\n",
      " 5   MarkDown2     2921 non-null   float64\n",
      " 6   MarkDown3     3613 non-null   float64\n",
      " 7   MarkDown4     3464 non-null   float64\n",
      " 8   MarkDown5     4050 non-null   float64\n",
      " 9   CPI           7605 non-null   float64\n",
      " 10  Unemployment  7605 non-null   float64\n",
      " 11  IsHoliday     8190 non-null   bool   \n",
      "dtypes: bool(1), float64(9), int64(1), object(1)\n",
      "memory usage: 712.0+ KB\n"
     ]
    }
   ],
   "source": [
    "features.info()"
   ]
  },
  {
   "cell_type": "code",
   "execution_count": 20,
   "id": "11aa53d7",
   "metadata": {},
   "outputs": [],
   "source": [
    "data = data.merge(features, how='left', on=['Store', 'Date'])"
   ]
  },
  {
   "cell_type": "code",
   "execution_count": 21,
   "id": "558a5367",
   "metadata": {},
   "outputs": [
    {
     "data": {
      "text/plain": [
       "421570"
      ]
     },
     "execution_count": 21,
     "metadata": {},
     "output_type": "execute_result"
    }
   ],
   "source": [
    "len(data)"
   ]
  },
  {
   "cell_type": "code",
   "execution_count": 22,
   "id": "8df3221e",
   "metadata": {},
   "outputs": [
    {
     "data": {
      "text/html": [
       "<div>\n",
       "<style scoped>\n",
       "    .dataframe tbody tr th:only-of-type {\n",
       "        vertical-align: middle;\n",
       "    }\n",
       "\n",
       "    .dataframe tbody tr th {\n",
       "        vertical-align: top;\n",
       "    }\n",
       "\n",
       "    .dataframe thead th {\n",
       "        text-align: right;\n",
       "    }\n",
       "</style>\n",
       "<table border=\"1\" class=\"dataframe\">\n",
       "  <thead>\n",
       "    <tr style=\"text-align: right;\">\n",
       "      <th></th>\n",
       "      <th>Store</th>\n",
       "      <th>Dept</th>\n",
       "      <th>Date</th>\n",
       "      <th>Weekly_Sales</th>\n",
       "      <th>IsHoliday_x</th>\n",
       "      <th>Type</th>\n",
       "      <th>Size</th>\n",
       "      <th>Temperature</th>\n",
       "      <th>Fuel_Price</th>\n",
       "      <th>MarkDown1</th>\n",
       "      <th>MarkDown2</th>\n",
       "      <th>MarkDown3</th>\n",
       "      <th>MarkDown4</th>\n",
       "      <th>MarkDown5</th>\n",
       "      <th>CPI</th>\n",
       "      <th>Unemployment</th>\n",
       "      <th>IsHoliday_y</th>\n",
       "    </tr>\n",
       "  </thead>\n",
       "  <tbody>\n",
       "    <tr>\n",
       "      <th>0</th>\n",
       "      <td>1</td>\n",
       "      <td>1</td>\n",
       "      <td>2010-02-05</td>\n",
       "      <td>24924.50</td>\n",
       "      <td>False</td>\n",
       "      <td>A</td>\n",
       "      <td>151315</td>\n",
       "      <td>42.31</td>\n",
       "      <td>2.572</td>\n",
       "      <td>NaN</td>\n",
       "      <td>NaN</td>\n",
       "      <td>NaN</td>\n",
       "      <td>NaN</td>\n",
       "      <td>NaN</td>\n",
       "      <td>211.096358</td>\n",
       "      <td>8.106</td>\n",
       "      <td>False</td>\n",
       "    </tr>\n",
       "    <tr>\n",
       "      <th>1</th>\n",
       "      <td>1</td>\n",
       "      <td>1</td>\n",
       "      <td>2010-02-12</td>\n",
       "      <td>46039.49</td>\n",
       "      <td>True</td>\n",
       "      <td>A</td>\n",
       "      <td>151315</td>\n",
       "      <td>38.51</td>\n",
       "      <td>2.548</td>\n",
       "      <td>NaN</td>\n",
       "      <td>NaN</td>\n",
       "      <td>NaN</td>\n",
       "      <td>NaN</td>\n",
       "      <td>NaN</td>\n",
       "      <td>211.242170</td>\n",
       "      <td>8.106</td>\n",
       "      <td>True</td>\n",
       "    </tr>\n",
       "  </tbody>\n",
       "</table>\n",
       "</div>"
      ],
      "text/plain": [
       "   Store  Dept        Date  Weekly_Sales  IsHoliday_x Type    Size  \\\n",
       "0      1     1  2010-02-05      24924.50        False    A  151315   \n",
       "1      1     1  2010-02-12      46039.49         True    A  151315   \n",
       "\n",
       "   Temperature  Fuel_Price  MarkDown1  MarkDown2  MarkDown3  MarkDown4  \\\n",
       "0        42.31       2.572        NaN        NaN        NaN        NaN   \n",
       "1        38.51       2.548        NaN        NaN        NaN        NaN   \n",
       "\n",
       "   MarkDown5         CPI  Unemployment  IsHoliday_y  \n",
       "0        NaN  211.096358         8.106        False  \n",
       "1        NaN  211.242170         8.106         True  "
      ]
     },
     "execution_count": 22,
     "metadata": {},
     "output_type": "execute_result"
    }
   ],
   "source": [
    "data.head(2)"
   ]
  },
  {
   "cell_type": "code",
   "execution_count": 23,
   "id": "1a9910ec",
   "metadata": {},
   "outputs": [
    {
     "name": "stdout",
     "output_type": "stream",
     "text": [
      "<class 'pandas.core.frame.DataFrame'>\n",
      "Int64Index: 421570 entries, 0 to 421569\n",
      "Data columns (total 17 columns):\n",
      " #   Column        Non-Null Count   Dtype  \n",
      "---  ------        --------------   -----  \n",
      " 0   Store         421570 non-null  int64  \n",
      " 1   Dept          421570 non-null  int64  \n",
      " 2   Date          421570 non-null  object \n",
      " 3   Weekly_Sales  421570 non-null  float64\n",
      " 4   IsHoliday_x   421570 non-null  bool   \n",
      " 5   Type          421570 non-null  object \n",
      " 6   Size          421570 non-null  int64  \n",
      " 7   Temperature   421570 non-null  float64\n",
      " 8   Fuel_Price    421570 non-null  float64\n",
      " 9   MarkDown1     150681 non-null  float64\n",
      " 10  MarkDown2     111248 non-null  float64\n",
      " 11  MarkDown3     137091 non-null  float64\n",
      " 12  MarkDown4     134967 non-null  float64\n",
      " 13  MarkDown5     151432 non-null  float64\n",
      " 14  CPI           421570 non-null  float64\n",
      " 15  Unemployment  421570 non-null  float64\n",
      " 16  IsHoliday_y   421570 non-null  bool   \n",
      "dtypes: bool(2), float64(10), int64(3), object(2)\n",
      "memory usage: 52.3+ MB\n"
     ]
    }
   ],
   "source": [
    "data.info()"
   ]
  },
  {
   "cell_type": "code",
   "execution_count": 24,
   "id": "6f2079f3",
   "metadata": {},
   "outputs": [],
   "source": [
    "data['Date'] = pd.to_datetime(data['Date'])"
   ]
  },
  {
   "cell_type": "code",
   "execution_count": 25,
   "id": "1933d881",
   "metadata": {},
   "outputs": [],
   "source": [
    "data = data.sort_values(by='Date')"
   ]
  },
  {
   "cell_type": "code",
   "execution_count": 26,
   "id": "c981b9f8",
   "metadata": {},
   "outputs": [
    {
     "data": {
      "text/html": [
       "<div>\n",
       "<style scoped>\n",
       "    .dataframe tbody tr th:only-of-type {\n",
       "        vertical-align: middle;\n",
       "    }\n",
       "\n",
       "    .dataframe tbody tr th {\n",
       "        vertical-align: top;\n",
       "    }\n",
       "\n",
       "    .dataframe thead th {\n",
       "        text-align: right;\n",
       "    }\n",
       "</style>\n",
       "<table border=\"1\" class=\"dataframe\">\n",
       "  <thead>\n",
       "    <tr style=\"text-align: right;\">\n",
       "      <th></th>\n",
       "      <th>Store</th>\n",
       "      <th>Dept</th>\n",
       "      <th>Date</th>\n",
       "      <th>Weekly_Sales</th>\n",
       "      <th>IsHoliday_x</th>\n",
       "      <th>Type</th>\n",
       "      <th>Size</th>\n",
       "      <th>Temperature</th>\n",
       "      <th>Fuel_Price</th>\n",
       "      <th>MarkDown1</th>\n",
       "      <th>MarkDown2</th>\n",
       "      <th>MarkDown3</th>\n",
       "      <th>MarkDown4</th>\n",
       "      <th>MarkDown5</th>\n",
       "      <th>CPI</th>\n",
       "      <th>Unemployment</th>\n",
       "      <th>IsHoliday_y</th>\n",
       "    </tr>\n",
       "  </thead>\n",
       "  <tbody>\n",
       "    <tr>\n",
       "      <th>0</th>\n",
       "      <td>1</td>\n",
       "      <td>1</td>\n",
       "      <td>2010-02-05</td>\n",
       "      <td>24924.50</td>\n",
       "      <td>False</td>\n",
       "      <td>A</td>\n",
       "      <td>151315</td>\n",
       "      <td>42.31</td>\n",
       "      <td>2.572</td>\n",
       "      <td>NaN</td>\n",
       "      <td>NaN</td>\n",
       "      <td>NaN</td>\n",
       "      <td>NaN</td>\n",
       "      <td>NaN</td>\n",
       "      <td>211.096358</td>\n",
       "      <td>8.106</td>\n",
       "      <td>False</td>\n",
       "    </tr>\n",
       "    <tr>\n",
       "      <th>277665</th>\n",
       "      <td>29</td>\n",
       "      <td>5</td>\n",
       "      <td>2010-02-05</td>\n",
       "      <td>15552.08</td>\n",
       "      <td>False</td>\n",
       "      <td>B</td>\n",
       "      <td>93638</td>\n",
       "      <td>24.36</td>\n",
       "      <td>2.788</td>\n",
       "      <td>NaN</td>\n",
       "      <td>NaN</td>\n",
       "      <td>NaN</td>\n",
       "      <td>NaN</td>\n",
       "      <td>NaN</td>\n",
       "      <td>131.527903</td>\n",
       "      <td>10.064</td>\n",
       "      <td>False</td>\n",
       "    </tr>\n",
       "    <tr>\n",
       "      <th>277808</th>\n",
       "      <td>29</td>\n",
       "      <td>6</td>\n",
       "      <td>2010-02-05</td>\n",
       "      <td>3200.22</td>\n",
       "      <td>False</td>\n",
       "      <td>B</td>\n",
       "      <td>93638</td>\n",
       "      <td>24.36</td>\n",
       "      <td>2.788</td>\n",
       "      <td>NaN</td>\n",
       "      <td>NaN</td>\n",
       "      <td>NaN</td>\n",
       "      <td>NaN</td>\n",
       "      <td>NaN</td>\n",
       "      <td>131.527903</td>\n",
       "      <td>10.064</td>\n",
       "      <td>False</td>\n",
       "    </tr>\n",
       "    <tr>\n",
       "      <th>277951</th>\n",
       "      <td>29</td>\n",
       "      <td>7</td>\n",
       "      <td>2010-02-05</td>\n",
       "      <td>10820.05</td>\n",
       "      <td>False</td>\n",
       "      <td>B</td>\n",
       "      <td>93638</td>\n",
       "      <td>24.36</td>\n",
       "      <td>2.788</td>\n",
       "      <td>NaN</td>\n",
       "      <td>NaN</td>\n",
       "      <td>NaN</td>\n",
       "      <td>NaN</td>\n",
       "      <td>NaN</td>\n",
       "      <td>131.527903</td>\n",
       "      <td>10.064</td>\n",
       "      <td>False</td>\n",
       "    </tr>\n",
       "    <tr>\n",
       "      <th>278094</th>\n",
       "      <td>29</td>\n",
       "      <td>8</td>\n",
       "      <td>2010-02-05</td>\n",
       "      <td>20055.64</td>\n",
       "      <td>False</td>\n",
       "      <td>B</td>\n",
       "      <td>93638</td>\n",
       "      <td>24.36</td>\n",
       "      <td>2.788</td>\n",
       "      <td>NaN</td>\n",
       "      <td>NaN</td>\n",
       "      <td>NaN</td>\n",
       "      <td>NaN</td>\n",
       "      <td>NaN</td>\n",
       "      <td>131.527903</td>\n",
       "      <td>10.064</td>\n",
       "      <td>False</td>\n",
       "    </tr>\n",
       "  </tbody>\n",
       "</table>\n",
       "</div>"
      ],
      "text/plain": [
       "        Store  Dept       Date  Weekly_Sales  IsHoliday_x Type    Size  \\\n",
       "0           1     1 2010-02-05      24924.50        False    A  151315   \n",
       "277665     29     5 2010-02-05      15552.08        False    B   93638   \n",
       "277808     29     6 2010-02-05       3200.22        False    B   93638   \n",
       "277951     29     7 2010-02-05      10820.05        False    B   93638   \n",
       "278094     29     8 2010-02-05      20055.64        False    B   93638   \n",
       "\n",
       "        Temperature  Fuel_Price  MarkDown1  MarkDown2  MarkDown3  MarkDown4  \\\n",
       "0             42.31       2.572        NaN        NaN        NaN        NaN   \n",
       "277665        24.36       2.788        NaN        NaN        NaN        NaN   \n",
       "277808        24.36       2.788        NaN        NaN        NaN        NaN   \n",
       "277951        24.36       2.788        NaN        NaN        NaN        NaN   \n",
       "278094        24.36       2.788        NaN        NaN        NaN        NaN   \n",
       "\n",
       "        MarkDown5         CPI  Unemployment  IsHoliday_y  \n",
       "0             NaN  211.096358         8.106        False  \n",
       "277665        NaN  131.527903        10.064        False  \n",
       "277808        NaN  131.527903        10.064        False  \n",
       "277951        NaN  131.527903        10.064        False  \n",
       "278094        NaN  131.527903        10.064        False  "
      ]
     },
     "execution_count": 26,
     "metadata": {},
     "output_type": "execute_result"
    }
   ],
   "source": [
    "data.head()"
   ]
  },
  {
   "cell_type": "code",
   "execution_count": 27,
   "id": "043acaa8",
   "metadata": {},
   "outputs": [
    {
     "data": {
      "text/html": [
       "<div>\n",
       "<style scoped>\n",
       "    .dataframe tbody tr th:only-of-type {\n",
       "        vertical-align: middle;\n",
       "    }\n",
       "\n",
       "    .dataframe tbody tr th {\n",
       "        vertical-align: top;\n",
       "    }\n",
       "\n",
       "    .dataframe thead th {\n",
       "        text-align: right;\n",
       "    }\n",
       "</style>\n",
       "<table border=\"1\" class=\"dataframe\">\n",
       "  <thead>\n",
       "    <tr style=\"text-align: right;\">\n",
       "      <th></th>\n",
       "      <th>Store</th>\n",
       "      <th>Dept</th>\n",
       "      <th>Date</th>\n",
       "      <th>Weekly_Sales</th>\n",
       "      <th>IsHoliday_x</th>\n",
       "      <th>Type</th>\n",
       "      <th>Size</th>\n",
       "      <th>Temperature</th>\n",
       "      <th>Fuel_Price</th>\n",
       "      <th>MarkDown1</th>\n",
       "      <th>MarkDown2</th>\n",
       "      <th>MarkDown3</th>\n",
       "      <th>MarkDown4</th>\n",
       "      <th>MarkDown5</th>\n",
       "      <th>CPI</th>\n",
       "      <th>Unemployment</th>\n",
       "      <th>IsHoliday_y</th>\n",
       "    </tr>\n",
       "  </thead>\n",
       "  <tbody>\n",
       "    <tr>\n",
       "      <th>379648</th>\n",
       "      <td>40</td>\n",
       "      <td>87</td>\n",
       "      <td>2012-10-26</td>\n",
       "      <td>24638.96</td>\n",
       "      <td>False</td>\n",
       "      <td>A</td>\n",
       "      <td>155083</td>\n",
       "      <td>49.65</td>\n",
       "      <td>3.917</td>\n",
       "      <td>3605.71</td>\n",
       "      <td>55.98</td>\n",
       "      <td>0.28</td>\n",
       "      <td>486.81</td>\n",
       "      <td>1389.06</td>\n",
       "      <td>138.728161</td>\n",
       "      <td>4.145</td>\n",
       "      <td>False</td>\n",
       "    </tr>\n",
       "    <tr>\n",
       "      <th>181170</th>\n",
       "      <td>19</td>\n",
       "      <td>30</td>\n",
       "      <td>2012-10-26</td>\n",
       "      <td>3740.12</td>\n",
       "      <td>False</td>\n",
       "      <td>A</td>\n",
       "      <td>203819</td>\n",
       "      <td>56.49</td>\n",
       "      <td>4.071</td>\n",
       "      <td>5430.75</td>\n",
       "      <td>90.07</td>\n",
       "      <td>NaN</td>\n",
       "      <td>904.34</td>\n",
       "      <td>1665.77</td>\n",
       "      <td>138.728161</td>\n",
       "      <td>7.992</td>\n",
       "      <td>False</td>\n",
       "    </tr>\n",
       "    <tr>\n",
       "      <th>181313</th>\n",
       "      <td>19</td>\n",
       "      <td>31</td>\n",
       "      <td>2012-10-26</td>\n",
       "      <td>3128.17</td>\n",
       "      <td>False</td>\n",
       "      <td>A</td>\n",
       "      <td>203819</td>\n",
       "      <td>56.49</td>\n",
       "      <td>4.071</td>\n",
       "      <td>5430.75</td>\n",
       "      <td>90.07</td>\n",
       "      <td>NaN</td>\n",
       "      <td>904.34</td>\n",
       "      <td>1665.77</td>\n",
       "      <td>138.728161</td>\n",
       "      <td>7.992</td>\n",
       "      <td>False</td>\n",
       "    </tr>\n",
       "    <tr>\n",
       "      <th>181599</th>\n",
       "      <td>19</td>\n",
       "      <td>33</td>\n",
       "      <td>2012-10-26</td>\n",
       "      <td>5740.14</td>\n",
       "      <td>False</td>\n",
       "      <td>A</td>\n",
       "      <td>203819</td>\n",
       "      <td>56.49</td>\n",
       "      <td>4.071</td>\n",
       "      <td>5430.75</td>\n",
       "      <td>90.07</td>\n",
       "      <td>NaN</td>\n",
       "      <td>904.34</td>\n",
       "      <td>1665.77</td>\n",
       "      <td>138.728161</td>\n",
       "      <td>7.992</td>\n",
       "      <td>False</td>\n",
       "    </tr>\n",
       "    <tr>\n",
       "      <th>421569</th>\n",
       "      <td>45</td>\n",
       "      <td>98</td>\n",
       "      <td>2012-10-26</td>\n",
       "      <td>1076.80</td>\n",
       "      <td>False</td>\n",
       "      <td>B</td>\n",
       "      <td>118221</td>\n",
       "      <td>58.85</td>\n",
       "      <td>3.882</td>\n",
       "      <td>4018.91</td>\n",
       "      <td>58.08</td>\n",
       "      <td>100.00</td>\n",
       "      <td>211.94</td>\n",
       "      <td>858.33</td>\n",
       "      <td>192.308899</td>\n",
       "      <td>8.667</td>\n",
       "      <td>False</td>\n",
       "    </tr>\n",
       "  </tbody>\n",
       "</table>\n",
       "</div>"
      ],
      "text/plain": [
       "        Store  Dept       Date  Weekly_Sales  IsHoliday_x Type    Size  \\\n",
       "379648     40    87 2012-10-26      24638.96        False    A  155083   \n",
       "181170     19    30 2012-10-26       3740.12        False    A  203819   \n",
       "181313     19    31 2012-10-26       3128.17        False    A  203819   \n",
       "181599     19    33 2012-10-26       5740.14        False    A  203819   \n",
       "421569     45    98 2012-10-26       1076.80        False    B  118221   \n",
       "\n",
       "        Temperature  Fuel_Price  MarkDown1  MarkDown2  MarkDown3  MarkDown4  \\\n",
       "379648        49.65       3.917    3605.71      55.98       0.28     486.81   \n",
       "181170        56.49       4.071    5430.75      90.07        NaN     904.34   \n",
       "181313        56.49       4.071    5430.75      90.07        NaN     904.34   \n",
       "181599        56.49       4.071    5430.75      90.07        NaN     904.34   \n",
       "421569        58.85       3.882    4018.91      58.08     100.00     211.94   \n",
       "\n",
       "        MarkDown5         CPI  Unemployment  IsHoliday_y  \n",
       "379648    1389.06  138.728161         4.145        False  \n",
       "181170    1665.77  138.728161         7.992        False  \n",
       "181313    1665.77  138.728161         7.992        False  \n",
       "181599    1665.77  138.728161         7.992        False  \n",
       "421569     858.33  192.308899         8.667        False  "
      ]
     },
     "execution_count": 27,
     "metadata": {},
     "output_type": "execute_result"
    }
   ],
   "source": [
    "data.tail()"
   ]
  },
  {
   "cell_type": "code",
   "execution_count": 28,
   "id": "8f727107",
   "metadata": {},
   "outputs": [
    {
     "data": {
      "text/plain": [
       "1422431"
      ]
     },
     "execution_count": 28,
     "metadata": {},
     "output_type": "execute_result"
    }
   ],
   "source": [
    "data.isnull().sum().sum()"
   ]
  },
  {
   "cell_type": "code",
   "execution_count": 29,
   "id": "8142c228",
   "metadata": {},
   "outputs": [
    {
     "data": {
      "text/plain": [
       "Store            0.000000\n",
       "Dept             0.000000\n",
       "Date             0.000000\n",
       "Weekly_Sales     0.000000\n",
       "IsHoliday_x      0.000000\n",
       "Type             0.000000\n",
       "Size             0.000000\n",
       "Temperature      0.000000\n",
       "Fuel_Price       0.000000\n",
       "MarkDown1       64.257181\n",
       "MarkDown2       73.611025\n",
       "MarkDown3       67.480845\n",
       "MarkDown4       67.984676\n",
       "MarkDown5       64.079038\n",
       "CPI              0.000000\n",
       "Unemployment     0.000000\n",
       "IsHoliday_y      0.000000\n",
       "dtype: float64"
      ]
     },
     "execution_count": 29,
     "metadata": {},
     "output_type": "execute_result"
    }
   ],
   "source": [
    "data.isnull().sum()/len(data)*100"
   ]
  },
  {
   "cell_type": "code",
   "execution_count": 30,
   "id": "832f492c",
   "metadata": {},
   "outputs": [
    {
     "data": {
      "text/plain": [
       "Index(['Store', 'Dept', 'Weekly_Sales', 'Size', 'Temperature', 'Fuel_Price',\n",
       "       'MarkDown1', 'MarkDown2', 'MarkDown3', 'MarkDown4', 'MarkDown5', 'CPI',\n",
       "       'Unemployment'],\n",
       "      dtype='object')"
      ]
     },
     "execution_count": 30,
     "metadata": {},
     "output_type": "execute_result"
    }
   ],
   "source": [
    "numerical_columns = data.select_dtypes(include=[np.number]).columns\n",
    "numerical_columns"
   ]
  },
  {
   "cell_type": "code",
   "execution_count": 31,
   "id": "ff4fe576",
   "metadata": {},
   "outputs": [],
   "source": [
    "data[numerical_columns] = data[numerical_columns].fillna(data[numerical_columns].median())"
   ]
  },
  {
   "cell_type": "code",
   "execution_count": 32,
   "id": "37a1d873",
   "metadata": {},
   "outputs": [
    {
     "data": {
      "text/plain": [
       "Store           0\n",
       "Dept            0\n",
       "Date            0\n",
       "Weekly_Sales    0\n",
       "IsHoliday_x     0\n",
       "Type            0\n",
       "Size            0\n",
       "Temperature     0\n",
       "Fuel_Price      0\n",
       "MarkDown1       0\n",
       "MarkDown2       0\n",
       "MarkDown3       0\n",
       "MarkDown4       0\n",
       "MarkDown5       0\n",
       "CPI             0\n",
       "Unemployment    0\n",
       "IsHoliday_y     0\n",
       "dtype: int64"
      ]
     },
     "execution_count": 32,
     "metadata": {},
     "output_type": "execute_result"
    }
   ],
   "source": [
    "data.isnull().sum()"
   ]
  },
  {
   "cell_type": "code",
   "execution_count": 33,
   "id": "5e723aee",
   "metadata": {},
   "outputs": [],
   "source": [
    "data = data.fillna(data.mode().iloc[0])"
   ]
  },
  {
   "cell_type": "code",
   "execution_count": 34,
   "id": "fbe3fe66",
   "metadata": {},
   "outputs": [],
   "source": [
    "data['Year'] = data['Date'].dt.year\n",
    "data['Month'] = data['Date'].dt.month\n",
    "data['Day'] = data['Date'].dt.day\n",
    "data['Week'] = data['Date'].dt.isocalendar().week\n",
    "data['DayOfWeek'] = data['Date'].dt.dayofweek"
   ]
  },
  {
   "cell_type": "code",
   "execution_count": 35,
   "id": "ca27c5d5",
   "metadata": {},
   "outputs": [
    {
     "data": {
      "text/html": [
       "<div>\n",
       "<style scoped>\n",
       "    .dataframe tbody tr th:only-of-type {\n",
       "        vertical-align: middle;\n",
       "    }\n",
       "\n",
       "    .dataframe tbody tr th {\n",
       "        vertical-align: top;\n",
       "    }\n",
       "\n",
       "    .dataframe thead th {\n",
       "        text-align: right;\n",
       "    }\n",
       "</style>\n",
       "<table border=\"1\" class=\"dataframe\">\n",
       "  <thead>\n",
       "    <tr style=\"text-align: right;\">\n",
       "      <th></th>\n",
       "      <th>Store</th>\n",
       "      <th>Dept</th>\n",
       "      <th>Date</th>\n",
       "      <th>Weekly_Sales</th>\n",
       "      <th>IsHoliday_x</th>\n",
       "      <th>Type</th>\n",
       "      <th>Size</th>\n",
       "      <th>Temperature</th>\n",
       "      <th>Fuel_Price</th>\n",
       "      <th>MarkDown1</th>\n",
       "      <th>...</th>\n",
       "      <th>MarkDown4</th>\n",
       "      <th>MarkDown5</th>\n",
       "      <th>CPI</th>\n",
       "      <th>Unemployment</th>\n",
       "      <th>IsHoliday_y</th>\n",
       "      <th>Year</th>\n",
       "      <th>Month</th>\n",
       "      <th>Day</th>\n",
       "      <th>Week</th>\n",
       "      <th>DayOfWeek</th>\n",
       "    </tr>\n",
       "  </thead>\n",
       "  <tbody>\n",
       "    <tr>\n",
       "      <th>0</th>\n",
       "      <td>1</td>\n",
       "      <td>1</td>\n",
       "      <td>2010-02-05</td>\n",
       "      <td>24924.50</td>\n",
       "      <td>False</td>\n",
       "      <td>A</td>\n",
       "      <td>151315</td>\n",
       "      <td>42.31</td>\n",
       "      <td>2.572</td>\n",
       "      <td>5347.45</td>\n",
       "      <td>...</td>\n",
       "      <td>1481.31</td>\n",
       "      <td>3359.45</td>\n",
       "      <td>211.096358</td>\n",
       "      <td>8.106</td>\n",
       "      <td>False</td>\n",
       "      <td>2010</td>\n",
       "      <td>2</td>\n",
       "      <td>5</td>\n",
       "      <td>5</td>\n",
       "      <td>4</td>\n",
       "    </tr>\n",
       "    <tr>\n",
       "      <th>277665</th>\n",
       "      <td>29</td>\n",
       "      <td>5</td>\n",
       "      <td>2010-02-05</td>\n",
       "      <td>15552.08</td>\n",
       "      <td>False</td>\n",
       "      <td>B</td>\n",
       "      <td>93638</td>\n",
       "      <td>24.36</td>\n",
       "      <td>2.788</td>\n",
       "      <td>5347.45</td>\n",
       "      <td>...</td>\n",
       "      <td>1481.31</td>\n",
       "      <td>3359.45</td>\n",
       "      <td>131.527903</td>\n",
       "      <td>10.064</td>\n",
       "      <td>False</td>\n",
       "      <td>2010</td>\n",
       "      <td>2</td>\n",
       "      <td>5</td>\n",
       "      <td>5</td>\n",
       "      <td>4</td>\n",
       "    </tr>\n",
       "    <tr>\n",
       "      <th>277808</th>\n",
       "      <td>29</td>\n",
       "      <td>6</td>\n",
       "      <td>2010-02-05</td>\n",
       "      <td>3200.22</td>\n",
       "      <td>False</td>\n",
       "      <td>B</td>\n",
       "      <td>93638</td>\n",
       "      <td>24.36</td>\n",
       "      <td>2.788</td>\n",
       "      <td>5347.45</td>\n",
       "      <td>...</td>\n",
       "      <td>1481.31</td>\n",
       "      <td>3359.45</td>\n",
       "      <td>131.527903</td>\n",
       "      <td>10.064</td>\n",
       "      <td>False</td>\n",
       "      <td>2010</td>\n",
       "      <td>2</td>\n",
       "      <td>5</td>\n",
       "      <td>5</td>\n",
       "      <td>4</td>\n",
       "    </tr>\n",
       "    <tr>\n",
       "      <th>277951</th>\n",
       "      <td>29</td>\n",
       "      <td>7</td>\n",
       "      <td>2010-02-05</td>\n",
       "      <td>10820.05</td>\n",
       "      <td>False</td>\n",
       "      <td>B</td>\n",
       "      <td>93638</td>\n",
       "      <td>24.36</td>\n",
       "      <td>2.788</td>\n",
       "      <td>5347.45</td>\n",
       "      <td>...</td>\n",
       "      <td>1481.31</td>\n",
       "      <td>3359.45</td>\n",
       "      <td>131.527903</td>\n",
       "      <td>10.064</td>\n",
       "      <td>False</td>\n",
       "      <td>2010</td>\n",
       "      <td>2</td>\n",
       "      <td>5</td>\n",
       "      <td>5</td>\n",
       "      <td>4</td>\n",
       "    </tr>\n",
       "    <tr>\n",
       "      <th>278094</th>\n",
       "      <td>29</td>\n",
       "      <td>8</td>\n",
       "      <td>2010-02-05</td>\n",
       "      <td>20055.64</td>\n",
       "      <td>False</td>\n",
       "      <td>B</td>\n",
       "      <td>93638</td>\n",
       "      <td>24.36</td>\n",
       "      <td>2.788</td>\n",
       "      <td>5347.45</td>\n",
       "      <td>...</td>\n",
       "      <td>1481.31</td>\n",
       "      <td>3359.45</td>\n",
       "      <td>131.527903</td>\n",
       "      <td>10.064</td>\n",
       "      <td>False</td>\n",
       "      <td>2010</td>\n",
       "      <td>2</td>\n",
       "      <td>5</td>\n",
       "      <td>5</td>\n",
       "      <td>4</td>\n",
       "    </tr>\n",
       "  </tbody>\n",
       "</table>\n",
       "<p>5 rows × 22 columns</p>\n",
       "</div>"
      ],
      "text/plain": [
       "        Store  Dept       Date  Weekly_Sales  IsHoliday_x Type    Size  \\\n",
       "0           1     1 2010-02-05      24924.50        False    A  151315   \n",
       "277665     29     5 2010-02-05      15552.08        False    B   93638   \n",
       "277808     29     6 2010-02-05       3200.22        False    B   93638   \n",
       "277951     29     7 2010-02-05      10820.05        False    B   93638   \n",
       "278094     29     8 2010-02-05      20055.64        False    B   93638   \n",
       "\n",
       "        Temperature  Fuel_Price  MarkDown1  ...  MarkDown4  MarkDown5  \\\n",
       "0             42.31       2.572    5347.45  ...    1481.31    3359.45   \n",
       "277665        24.36       2.788    5347.45  ...    1481.31    3359.45   \n",
       "277808        24.36       2.788    5347.45  ...    1481.31    3359.45   \n",
       "277951        24.36       2.788    5347.45  ...    1481.31    3359.45   \n",
       "278094        24.36       2.788    5347.45  ...    1481.31    3359.45   \n",
       "\n",
       "               CPI  Unemployment  IsHoliday_y  Year  Month  Day  Week  \\\n",
       "0       211.096358         8.106        False  2010      2    5     5   \n",
       "277665  131.527903        10.064        False  2010      2    5     5   \n",
       "277808  131.527903        10.064        False  2010      2    5     5   \n",
       "277951  131.527903        10.064        False  2010      2    5     5   \n",
       "278094  131.527903        10.064        False  2010      2    5     5   \n",
       "\n",
       "        DayOfWeek  \n",
       "0               4  \n",
       "277665          4  \n",
       "277808          4  \n",
       "277951          4  \n",
       "278094          4  \n",
       "\n",
       "[5 rows x 22 columns]"
      ]
     },
     "execution_count": 35,
     "metadata": {},
     "output_type": "execute_result"
    }
   ],
   "source": [
    "data.head()"
   ]
  },
  {
   "cell_type": "code",
   "execution_count": 36,
   "id": "4e0a4af4",
   "metadata": {},
   "outputs": [],
   "source": [
    "x = data.drop(columns = ['Date', 'Weekly_Sales'])\n",
    "y = data['Weekly_Sales']"
   ]
  },
  {
   "cell_type": "code",
   "execution_count": 37,
   "id": "8fae020e",
   "metadata": {},
   "outputs": [],
   "source": [
    "from sklearn.preprocessing import OneHotEncoder"
   ]
  },
  {
   "cell_type": "code",
   "execution_count": 38,
   "id": "fa709198",
   "metadata": {},
   "outputs": [],
   "source": [
    "from sklearn.preprocessing import OneHotEncoder"
   ]
  },
  {
   "cell_type": "code",
   "execution_count": 39,
   "id": "27972b92",
   "metadata": {},
   "outputs": [],
   "source": [
    "encoder = OneHotEncoder(handle_unknown=\"ignore\", sparse=False)"
   ]
  },
  {
   "cell_type": "code",
   "execution_count": 40,
   "id": "b82a51a1",
   "metadata": {},
   "outputs": [],
   "source": [
    "X_encoded = encoder.fit_transform(x[[\"Type\"]])  # double brackets ensure 2D\n"
   ]
  },
  {
   "cell_type": "code",
   "execution_count": 41,
   "id": "07d23b71",
   "metadata": {},
   "outputs": [
    {
     "name": "stdout",
     "output_type": "stream",
     "text": [
      "(421570, 3)\n",
      "['Type_A' 'Type_B' 'Type_C']\n"
     ]
    }
   ],
   "source": [
    "print(X_encoded.shape)  # should match number of categories\n",
    "print(encoder.get_feature_names_out())  # column names\n"
   ]
  },
  {
   "cell_type": "code",
   "execution_count": 42,
   "id": "a4ddc27f",
   "metadata": {},
   "outputs": [],
   "source": [
    "encoded_df = pd.DataFrame(X_encoded, columns=encoder.get_feature_names_out([\"Type\"]))\n"
   ]
  },
  {
   "cell_type": "code",
   "execution_count": 43,
   "id": "5d903c34",
   "metadata": {},
   "outputs": [
    {
     "name": "stdout",
     "output_type": "stream",
     "text": [
      "        Type_A  Type_B  Type_C\n",
      "0          1.0     0.0     0.0\n",
      "1          0.0     1.0     0.0\n",
      "2          0.0     1.0     0.0\n",
      "3          0.0     1.0     0.0\n",
      "4          0.0     1.0     0.0\n",
      "...        ...     ...     ...\n",
      "421565     1.0     0.0     0.0\n",
      "421566     1.0     0.0     0.0\n",
      "421567     1.0     0.0     0.0\n",
      "421568     1.0     0.0     0.0\n",
      "421569     0.0     1.0     0.0\n",
      "\n",
      "[421570 rows x 3 columns]\n"
     ]
    }
   ],
   "source": [
    "print(encoded_df)"
   ]
  },
  {
   "cell_type": "code",
   "execution_count": 44,
   "id": "4bd8a054",
   "metadata": {},
   "outputs": [],
   "source": [
    "x_numeric = x.drop(columns=[\"Type\"])\n",
    "x_final = pd.concat([x_numeric.reset_index(drop=True), encoded_df], axis=1)"
   ]
  },
  {
   "cell_type": "code",
   "execution_count": 45,
   "id": "c06e9ff8",
   "metadata": {},
   "outputs": [
    {
     "data": {
      "text/html": [
       "<div>\n",
       "<style scoped>\n",
       "    .dataframe tbody tr th:only-of-type {\n",
       "        vertical-align: middle;\n",
       "    }\n",
       "\n",
       "    .dataframe tbody tr th {\n",
       "        vertical-align: top;\n",
       "    }\n",
       "\n",
       "    .dataframe thead th {\n",
       "        text-align: right;\n",
       "    }\n",
       "</style>\n",
       "<table border=\"1\" class=\"dataframe\">\n",
       "  <thead>\n",
       "    <tr style=\"text-align: right;\">\n",
       "      <th></th>\n",
       "      <th>Store</th>\n",
       "      <th>Dept</th>\n",
       "      <th>IsHoliday_x</th>\n",
       "      <th>Size</th>\n",
       "      <th>Temperature</th>\n",
       "      <th>Fuel_Price</th>\n",
       "      <th>MarkDown1</th>\n",
       "      <th>MarkDown2</th>\n",
       "      <th>MarkDown3</th>\n",
       "      <th>MarkDown4</th>\n",
       "      <th>...</th>\n",
       "      <th>Unemployment</th>\n",
       "      <th>IsHoliday_y</th>\n",
       "      <th>Year</th>\n",
       "      <th>Month</th>\n",
       "      <th>Day</th>\n",
       "      <th>Week</th>\n",
       "      <th>DayOfWeek</th>\n",
       "      <th>Type_A</th>\n",
       "      <th>Type_B</th>\n",
       "      <th>Type_C</th>\n",
       "    </tr>\n",
       "  </thead>\n",
       "  <tbody>\n",
       "    <tr>\n",
       "      <th>0</th>\n",
       "      <td>1</td>\n",
       "      <td>1</td>\n",
       "      <td>False</td>\n",
       "      <td>151315</td>\n",
       "      <td>42.31</td>\n",
       "      <td>2.572</td>\n",
       "      <td>5347.45</td>\n",
       "      <td>192.00</td>\n",
       "      <td>24.60</td>\n",
       "      <td>1481.31</td>\n",
       "      <td>...</td>\n",
       "      <td>8.106</td>\n",
       "      <td>False</td>\n",
       "      <td>2010</td>\n",
       "      <td>2</td>\n",
       "      <td>5</td>\n",
       "      <td>5</td>\n",
       "      <td>4</td>\n",
       "      <td>1.0</td>\n",
       "      <td>0.0</td>\n",
       "      <td>0.0</td>\n",
       "    </tr>\n",
       "    <tr>\n",
       "      <th>1</th>\n",
       "      <td>29</td>\n",
       "      <td>5</td>\n",
       "      <td>False</td>\n",
       "      <td>93638</td>\n",
       "      <td>24.36</td>\n",
       "      <td>2.788</td>\n",
       "      <td>5347.45</td>\n",
       "      <td>192.00</td>\n",
       "      <td>24.60</td>\n",
       "      <td>1481.31</td>\n",
       "      <td>...</td>\n",
       "      <td>10.064</td>\n",
       "      <td>False</td>\n",
       "      <td>2010</td>\n",
       "      <td>2</td>\n",
       "      <td>5</td>\n",
       "      <td>5</td>\n",
       "      <td>4</td>\n",
       "      <td>0.0</td>\n",
       "      <td>1.0</td>\n",
       "      <td>0.0</td>\n",
       "    </tr>\n",
       "    <tr>\n",
       "      <th>2</th>\n",
       "      <td>29</td>\n",
       "      <td>6</td>\n",
       "      <td>False</td>\n",
       "      <td>93638</td>\n",
       "      <td>24.36</td>\n",
       "      <td>2.788</td>\n",
       "      <td>5347.45</td>\n",
       "      <td>192.00</td>\n",
       "      <td>24.60</td>\n",
       "      <td>1481.31</td>\n",
       "      <td>...</td>\n",
       "      <td>10.064</td>\n",
       "      <td>False</td>\n",
       "      <td>2010</td>\n",
       "      <td>2</td>\n",
       "      <td>5</td>\n",
       "      <td>5</td>\n",
       "      <td>4</td>\n",
       "      <td>0.0</td>\n",
       "      <td>1.0</td>\n",
       "      <td>0.0</td>\n",
       "    </tr>\n",
       "    <tr>\n",
       "      <th>3</th>\n",
       "      <td>29</td>\n",
       "      <td>7</td>\n",
       "      <td>False</td>\n",
       "      <td>93638</td>\n",
       "      <td>24.36</td>\n",
       "      <td>2.788</td>\n",
       "      <td>5347.45</td>\n",
       "      <td>192.00</td>\n",
       "      <td>24.60</td>\n",
       "      <td>1481.31</td>\n",
       "      <td>...</td>\n",
       "      <td>10.064</td>\n",
       "      <td>False</td>\n",
       "      <td>2010</td>\n",
       "      <td>2</td>\n",
       "      <td>5</td>\n",
       "      <td>5</td>\n",
       "      <td>4</td>\n",
       "      <td>0.0</td>\n",
       "      <td>1.0</td>\n",
       "      <td>0.0</td>\n",
       "    </tr>\n",
       "    <tr>\n",
       "      <th>4</th>\n",
       "      <td>29</td>\n",
       "      <td>8</td>\n",
       "      <td>False</td>\n",
       "      <td>93638</td>\n",
       "      <td>24.36</td>\n",
       "      <td>2.788</td>\n",
       "      <td>5347.45</td>\n",
       "      <td>192.00</td>\n",
       "      <td>24.60</td>\n",
       "      <td>1481.31</td>\n",
       "      <td>...</td>\n",
       "      <td>10.064</td>\n",
       "      <td>False</td>\n",
       "      <td>2010</td>\n",
       "      <td>2</td>\n",
       "      <td>5</td>\n",
       "      <td>5</td>\n",
       "      <td>4</td>\n",
       "      <td>0.0</td>\n",
       "      <td>1.0</td>\n",
       "      <td>0.0</td>\n",
       "    </tr>\n",
       "    <tr>\n",
       "      <th>...</th>\n",
       "      <td>...</td>\n",
       "      <td>...</td>\n",
       "      <td>...</td>\n",
       "      <td>...</td>\n",
       "      <td>...</td>\n",
       "      <td>...</td>\n",
       "      <td>...</td>\n",
       "      <td>...</td>\n",
       "      <td>...</td>\n",
       "      <td>...</td>\n",
       "      <td>...</td>\n",
       "      <td>...</td>\n",
       "      <td>...</td>\n",
       "      <td>...</td>\n",
       "      <td>...</td>\n",
       "      <td>...</td>\n",
       "      <td>...</td>\n",
       "      <td>...</td>\n",
       "      <td>...</td>\n",
       "      <td>...</td>\n",
       "      <td>...</td>\n",
       "    </tr>\n",
       "    <tr>\n",
       "      <th>421565</th>\n",
       "      <td>40</td>\n",
       "      <td>87</td>\n",
       "      <td>False</td>\n",
       "      <td>155083</td>\n",
       "      <td>49.65</td>\n",
       "      <td>3.917</td>\n",
       "      <td>3605.71</td>\n",
       "      <td>55.98</td>\n",
       "      <td>0.28</td>\n",
       "      <td>486.81</td>\n",
       "      <td>...</td>\n",
       "      <td>4.145</td>\n",
       "      <td>False</td>\n",
       "      <td>2012</td>\n",
       "      <td>10</td>\n",
       "      <td>26</td>\n",
       "      <td>43</td>\n",
       "      <td>4</td>\n",
       "      <td>1.0</td>\n",
       "      <td>0.0</td>\n",
       "      <td>0.0</td>\n",
       "    </tr>\n",
       "    <tr>\n",
       "      <th>421566</th>\n",
       "      <td>19</td>\n",
       "      <td>30</td>\n",
       "      <td>False</td>\n",
       "      <td>203819</td>\n",
       "      <td>56.49</td>\n",
       "      <td>4.071</td>\n",
       "      <td>5430.75</td>\n",
       "      <td>90.07</td>\n",
       "      <td>24.60</td>\n",
       "      <td>904.34</td>\n",
       "      <td>...</td>\n",
       "      <td>7.992</td>\n",
       "      <td>False</td>\n",
       "      <td>2012</td>\n",
       "      <td>10</td>\n",
       "      <td>26</td>\n",
       "      <td>43</td>\n",
       "      <td>4</td>\n",
       "      <td>1.0</td>\n",
       "      <td>0.0</td>\n",
       "      <td>0.0</td>\n",
       "    </tr>\n",
       "    <tr>\n",
       "      <th>421567</th>\n",
       "      <td>19</td>\n",
       "      <td>31</td>\n",
       "      <td>False</td>\n",
       "      <td>203819</td>\n",
       "      <td>56.49</td>\n",
       "      <td>4.071</td>\n",
       "      <td>5430.75</td>\n",
       "      <td>90.07</td>\n",
       "      <td>24.60</td>\n",
       "      <td>904.34</td>\n",
       "      <td>...</td>\n",
       "      <td>7.992</td>\n",
       "      <td>False</td>\n",
       "      <td>2012</td>\n",
       "      <td>10</td>\n",
       "      <td>26</td>\n",
       "      <td>43</td>\n",
       "      <td>4</td>\n",
       "      <td>1.0</td>\n",
       "      <td>0.0</td>\n",
       "      <td>0.0</td>\n",
       "    </tr>\n",
       "    <tr>\n",
       "      <th>421568</th>\n",
       "      <td>19</td>\n",
       "      <td>33</td>\n",
       "      <td>False</td>\n",
       "      <td>203819</td>\n",
       "      <td>56.49</td>\n",
       "      <td>4.071</td>\n",
       "      <td>5430.75</td>\n",
       "      <td>90.07</td>\n",
       "      <td>24.60</td>\n",
       "      <td>904.34</td>\n",
       "      <td>...</td>\n",
       "      <td>7.992</td>\n",
       "      <td>False</td>\n",
       "      <td>2012</td>\n",
       "      <td>10</td>\n",
       "      <td>26</td>\n",
       "      <td>43</td>\n",
       "      <td>4</td>\n",
       "      <td>1.0</td>\n",
       "      <td>0.0</td>\n",
       "      <td>0.0</td>\n",
       "    </tr>\n",
       "    <tr>\n",
       "      <th>421569</th>\n",
       "      <td>45</td>\n",
       "      <td>98</td>\n",
       "      <td>False</td>\n",
       "      <td>118221</td>\n",
       "      <td>58.85</td>\n",
       "      <td>3.882</td>\n",
       "      <td>4018.91</td>\n",
       "      <td>58.08</td>\n",
       "      <td>100.00</td>\n",
       "      <td>211.94</td>\n",
       "      <td>...</td>\n",
       "      <td>8.667</td>\n",
       "      <td>False</td>\n",
       "      <td>2012</td>\n",
       "      <td>10</td>\n",
       "      <td>26</td>\n",
       "      <td>43</td>\n",
       "      <td>4</td>\n",
       "      <td>0.0</td>\n",
       "      <td>1.0</td>\n",
       "      <td>0.0</td>\n",
       "    </tr>\n",
       "  </tbody>\n",
       "</table>\n",
       "<p>421570 rows × 22 columns</p>\n",
       "</div>"
      ],
      "text/plain": [
       "        Store  Dept  IsHoliday_x    Size  Temperature  Fuel_Price  MarkDown1  \\\n",
       "0           1     1        False  151315        42.31       2.572    5347.45   \n",
       "1          29     5        False   93638        24.36       2.788    5347.45   \n",
       "2          29     6        False   93638        24.36       2.788    5347.45   \n",
       "3          29     7        False   93638        24.36       2.788    5347.45   \n",
       "4          29     8        False   93638        24.36       2.788    5347.45   \n",
       "...       ...   ...          ...     ...          ...         ...        ...   \n",
       "421565     40    87        False  155083        49.65       3.917    3605.71   \n",
       "421566     19    30        False  203819        56.49       4.071    5430.75   \n",
       "421567     19    31        False  203819        56.49       4.071    5430.75   \n",
       "421568     19    33        False  203819        56.49       4.071    5430.75   \n",
       "421569     45    98        False  118221        58.85       3.882    4018.91   \n",
       "\n",
       "        MarkDown2  MarkDown3  MarkDown4  ...  Unemployment  IsHoliday_y  Year  \\\n",
       "0          192.00      24.60    1481.31  ...         8.106        False  2010   \n",
       "1          192.00      24.60    1481.31  ...        10.064        False  2010   \n",
       "2          192.00      24.60    1481.31  ...        10.064        False  2010   \n",
       "3          192.00      24.60    1481.31  ...        10.064        False  2010   \n",
       "4          192.00      24.60    1481.31  ...        10.064        False  2010   \n",
       "...           ...        ...        ...  ...           ...          ...   ...   \n",
       "421565      55.98       0.28     486.81  ...         4.145        False  2012   \n",
       "421566      90.07      24.60     904.34  ...         7.992        False  2012   \n",
       "421567      90.07      24.60     904.34  ...         7.992        False  2012   \n",
       "421568      90.07      24.60     904.34  ...         7.992        False  2012   \n",
       "421569      58.08     100.00     211.94  ...         8.667        False  2012   \n",
       "\n",
       "        Month  Day  Week  DayOfWeek  Type_A  Type_B  Type_C  \n",
       "0           2    5     5          4     1.0     0.0     0.0  \n",
       "1           2    5     5          4     0.0     1.0     0.0  \n",
       "2           2    5     5          4     0.0     1.0     0.0  \n",
       "3           2    5     5          4     0.0     1.0     0.0  \n",
       "4           2    5     5          4     0.0     1.0     0.0  \n",
       "...       ...  ...   ...        ...     ...     ...     ...  \n",
       "421565     10   26    43          4     1.0     0.0     0.0  \n",
       "421566     10   26    43          4     1.0     0.0     0.0  \n",
       "421567     10   26    43          4     1.0     0.0     0.0  \n",
       "421568     10   26    43          4     1.0     0.0     0.0  \n",
       "421569     10   26    43          4     0.0     1.0     0.0  \n",
       "\n",
       "[421570 rows x 22 columns]"
      ]
     },
     "execution_count": 45,
     "metadata": {},
     "output_type": "execute_result"
    }
   ],
   "source": [
    "x_final"
   ]
  },
  {
   "cell_type": "code",
   "execution_count": 46,
   "id": "1c376f88",
   "metadata": {},
   "outputs": [],
   "source": [
    "import pickle"
   ]
  },
  {
   "cell_type": "code",
   "execution_count": 47,
   "id": "c787f994",
   "metadata": {},
   "outputs": [],
   "source": [
    "pickle.dump(encoder, open(\"encoder.pkl\", \"wb\"))"
   ]
  },
  {
   "cell_type": "code",
   "execution_count": 48,
   "id": "aa3a7d97",
   "metadata": {},
   "outputs": [],
   "source": [
    "scaler = StandardScaler()\n",
    "x_scaled = scaler.fit_transform(x_final)"
   ]
  },
  {
   "cell_type": "code",
   "execution_count": 49,
   "id": "30ebb3d8",
   "metadata": {},
   "outputs": [
    {
     "data": {
      "text/plain": [
       "array([[-1.65819926, -1.41874236, -0.27510614, ...,  0.97797803,\n",
       "        -0.79593806, -0.3352628 ],\n",
       "       [ 0.53181888, -1.28756049, -0.27510614, ..., -1.02251786,\n",
       "         1.25637918, -0.3352628 ],\n",
       "       [ 0.53181888, -1.25476502, -0.27510614, ..., -1.02251786,\n",
       "         1.25637918, -0.3352628 ],\n",
       "       ...,\n",
       "       [-0.25033046, -0.43487832, -0.27510614, ...,  0.97797803,\n",
       "        -0.79593806, -0.3352628 ],\n",
       "       [-0.25033046, -0.36928738, -0.27510614, ...,  0.97797803,\n",
       "        -0.79593806, -0.3352628 ],\n",
       "       [ 1.78325781,  1.76241805, -0.27510614, ..., -1.02251786,\n",
       "         1.25637918, -0.3352628 ]])"
      ]
     },
     "execution_count": 49,
     "metadata": {},
     "output_type": "execute_result"
    }
   ],
   "source": [
    "x_scaled"
   ]
  },
  {
   "cell_type": "code",
   "execution_count": 50,
   "id": "23bc3cfa",
   "metadata": {},
   "outputs": [],
   "source": [
    "pickle.dump(scaler, open(\"scaler.pkl\", \"wb\"))"
   ]
  },
  {
   "cell_type": "code",
   "execution_count": 51,
   "id": "4574200b",
   "metadata": {},
   "outputs": [],
   "source": [
    "x_train, x_test, y_train, y_test = train_test_split(x_scaled, y, test_size=0.2, random_state=42)\n"
   ]
  },
  {
   "cell_type": "code",
   "execution_count": 52,
   "id": "d9b0a79c",
   "metadata": {},
   "outputs": [
    {
     "data": {
      "text/plain": [
       "RandomForestRegressor()"
      ]
     },
     "execution_count": 52,
     "metadata": {},
     "output_type": "execute_result"
    }
   ],
   "source": [
    "model = RandomForestRegressor(n_estimators=100)\n",
    "model.fit(x_train, y_train)"
   ]
  },
  {
   "cell_type": "code",
   "execution_count": 53,
   "id": "03c0617f",
   "metadata": {},
   "outputs": [],
   "source": [
    "y_pred = model.predict(x_test)\n",
    "mse = mean_squared_error(y_test, y_pred)\n",
    "r2 = r2_score(y_test, y_pred)"
   ]
  },
  {
   "cell_type": "code",
   "execution_count": 54,
   "id": "9998cc4f",
   "metadata": {},
   "outputs": [
    {
     "name": "stdout",
     "output_type": "stream",
     "text": [
      "Mean Squared Error : 11683853.527200062\n",
      "R-Squared: 0.9775310837647957\n"
     ]
    }
   ],
   "source": [
    "print(f\"Mean Squared Error : {mse}\")\n",
    "print(f\"R-Squared: {r2}\")"
   ]
  },
  {
   "cell_type": "code",
   "execution_count": 55,
   "id": "3f0d6cb4",
   "metadata": {},
   "outputs": [
    {
     "name": "stdout",
     "output_type": "stream",
     "text": [
      "[ 1  5  6  7  8 49  9 10 11 12 13 14 16 17 48 18 20 21  4  3  2 80 81 82\n",
      " 83 85 87 54 90 22 91 93 94 95 96 97 52 51 98 92 79 23 25 55 56 58 42 59\n",
      " 60 67 71 72 74 41 46 44 26 27 28 29 30 31 45 24 32 34 35 36 38 40 33 19\n",
      " 37 78 47 99 50 65 43 39 77]\n",
      "[ 1 29  2 28 27 31 32 30 24  3 25 23 26 39 40 38 37 41 42 34 33 36 35 11\n",
      "  4 12 10 13 14  6  5  7  9  8 20 19 18 22 21 15 16 17 44 45 43]\n",
      "[2010 2011 2012]\n"
     ]
    }
   ],
   "source": [
    "print(x[\"Dept\"].unique())\n",
    "print(x[\"Store\"].unique())\n",
    "print(x[\"Year\"].unique())"
   ]
  },
  {
   "cell_type": "code",
   "execution_count": 56,
   "id": "d62d21b8",
   "metadata": {},
   "outputs": [
    {
     "data": {
      "text/plain": [
       "['model.joblib']"
      ]
     },
     "execution_count": 56,
     "metadata": {},
     "output_type": "execute_result"
    }
   ],
   "source": [
    "import joblib\n",
    "joblib.dump(model, \"model.joblib\")"
   ]
  },
  {
   "cell_type": "code",
   "execution_count": 57,
   "id": "f9a43942",
   "metadata": {},
   "outputs": [
    {
     "name": "stdout",
     "output_type": "stream",
     "text": [
      "Index(['Store', 'Dept', 'IsHoliday_x', 'Type', 'Size', 'Temperature',\n",
      "       'Fuel_Price', 'MarkDown1', 'MarkDown2', 'MarkDown3', 'MarkDown4',\n",
      "       'MarkDown5', 'CPI', 'Unemployment', 'IsHoliday_y', 'Year', 'Month',\n",
      "       'Day', 'Week', 'DayOfWeek'],\n",
      "      dtype='object')\n"
     ]
    }
   ],
   "source": [
    "print(x.columns)"
   ]
  },
  {
   "cell_type": "code",
   "execution_count": null,
   "id": "66477212",
   "metadata": {},
   "outputs": [],
   "source": []
  },
  {
   "cell_type": "code",
   "execution_count": null,
   "id": "57ca813f",
   "metadata": {},
   "outputs": [],
   "source": []
  },
  {
   "cell_type": "code",
   "execution_count": null,
   "id": "1f8f3061",
   "metadata": {},
   "outputs": [],
   "source": []
  }
 ],
 "metadata": {
  "kernelspec": {
   "display_name": "Python 3 (ipykernel)",
   "language": "python",
   "name": "python3"
  },
  "language_info": {
   "codemirror_mode": {
    "name": "ipython",
    "version": 3
   },
   "file_extension": ".py",
   "mimetype": "text/x-python",
   "name": "python",
   "nbconvert_exporter": "python",
   "pygments_lexer": "ipython3",
   "version": "3.9.12"
  }
 },
 "nbformat": 4,
 "nbformat_minor": 5
}
